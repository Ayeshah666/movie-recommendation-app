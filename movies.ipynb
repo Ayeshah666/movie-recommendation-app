{
 "cells": [
  {
   "cell_type": "code",
   "execution_count": 1,
   "id": "4e7b185a-7fc0-4033-af66-5306c54117d1",
   "metadata": {},
   "outputs": [
    {
     "name": "stdout",
     "output_type": "stream",
     "text": [
      "Requirement already satisfied: pandas in c:\\users\\mraction\\miniconda3\\lib\\site-packages (2.2.3)\n",
      "Requirement already satisfied: scikit-learn in c:\\users\\mraction\\miniconda3\\lib\\site-packages (1.6.1)\n",
      "Requirement already satisfied: numpy>=1.26.0 in c:\\users\\mraction\\miniconda3\\lib\\site-packages (from pandas) (2.1.3)\n",
      "Requirement already satisfied: python-dateutil>=2.8.2 in c:\\users\\mraction\\miniconda3\\lib\\site-packages (from pandas) (2.9.0.post0)\n",
      "Requirement already satisfied: pytz>=2020.1 in c:\\users\\mraction\\miniconda3\\lib\\site-packages (from pandas) (2025.2)\n",
      "Requirement already satisfied: tzdata>=2022.7 in c:\\users\\mraction\\miniconda3\\lib\\site-packages (from pandas) (2025.2)\n",
      "Requirement already satisfied: scipy>=1.6.0 in c:\\users\\mraction\\miniconda3\\lib\\site-packages (from scikit-learn) (1.15.2)\n",
      "Requirement already satisfied: joblib>=1.2.0 in c:\\users\\mraction\\miniconda3\\lib\\site-packages (from scikit-learn) (1.4.2)\n",
      "Requirement already satisfied: threadpoolctl>=3.1.0 in c:\\users\\mraction\\miniconda3\\lib\\site-packages (from scikit-learn) (3.6.0)\n",
      "Requirement already satisfied: six>=1.5 in c:\\users\\mraction\\miniconda3\\lib\\site-packages (from python-dateutil>=2.8.2->pandas) (1.16.0)\n"
     ]
    }
   ],
   "source": [
    "!pip install pandas scikit-learn"
   ]
  },
  {
   "cell_type": "code",
   "execution_count": 2,
   "id": "d550d0ee-de44-4801-8ffc-4a0d30474ec3",
   "metadata": {},
   "outputs": [
    {
     "name": "stdout",
     "output_type": "stream",
     "text": [
      "   movieId                               title  \\\n",
      "0        1                    Toy Story (1995)   \n",
      "1        2                      Jumanji (1995)   \n",
      "2        3             Grumpier Old Men (1995)   \n",
      "3        4            Waiting to Exhale (1995)   \n",
      "4        5  Father of the Bride Part II (1995)   \n",
      "\n",
      "                                        genres  \n",
      "0  Adventure|Animation|Children|Comedy|Fantasy  \n",
      "1                   Adventure|Children|Fantasy  \n",
      "2                               Comedy|Romance  \n",
      "3                         Comedy|Drama|Romance  \n",
      "4                                       Comedy  \n",
      "   userId  movieId  rating   timestamp\n",
      "0       1       31     2.5  1260759144\n",
      "1       1     1029     3.0  1260759179\n",
      "2       1     1061     3.0  1260759182\n",
      "3       1     1129     2.0  1260759185\n",
      "4       1     1172     4.0  1260759205\n"
     ]
    }
   ],
   "source": [
    "import pandas as pd\n",
    "\n",
    "movies = pd.read_csv(\"movies.csv\") #replace movies.csv with the correct path\n",
    "ratings = pd.read_csv(\"ratings.csv\") #replace ratings.csv with the correct path\n",
    "\n",
    "print(movies.head()) #shows the first few movies\n",
    "print(ratings.head()) #shows the first few ratings"
   ]
  },
  {
   "cell_type": "code",
   "execution_count": 3,
   "id": "e4341633-ced1-450b-a2b7-15b21350f560",
   "metadata": {},
   "outputs": [],
   "source": [
    "movie_ratings = pd.merge(ratings, movies, on=\"movieId\")"
   ]
  },
  {
   "cell_type": "code",
   "execution_count": 9,
   "id": "412dfae5-4e6f-44eb-90dd-301666ffcd97",
   "metadata": {},
   "outputs": [
    {
     "name": "stdout",
     "output_type": "stream",
     "text": [
      "       userId  movieId  rating   timestamp             title  \\\n",
      "495         7        1     3.0   851866703  Toy Story (1995)   \n",
      "699         9        1     4.0   938629179  Toy Story (1995)   \n",
      "889        13        1     5.0  1331380058  Toy Story (1995)   \n",
      "962        15        1     2.0   997938310  Toy Story (1995)   \n",
      "3105       19        1     3.0   855190091  Toy Story (1995)   \n",
      "...       ...      ...     ...         ...               ...   \n",
      "98531     660        1     2.5  1436680062  Toy Story (1995)   \n",
      "98714     663        1     4.0  1438397999  Toy Story (1995)   \n",
      "98740     664        1     3.5  1362421730  Toy Story (1995)   \n",
      "99858     670        1     4.0   938782344  Toy Story (1995)   \n",
      "99889     671        1     5.0  1064891129  Toy Story (1995)   \n",
      "\n",
      "                                            genres  \n",
      "495    Adventure|Animation|Children|Comedy|Fantasy  \n",
      "699    Adventure|Animation|Children|Comedy|Fantasy  \n",
      "889    Adventure|Animation|Children|Comedy|Fantasy  \n",
      "962    Adventure|Animation|Children|Comedy|Fantasy  \n",
      "3105   Adventure|Animation|Children|Comedy|Fantasy  \n",
      "...                                            ...  \n",
      "98531  Adventure|Animation|Children|Comedy|Fantasy  \n",
      "98714  Adventure|Animation|Children|Comedy|Fantasy  \n",
      "98740  Adventure|Animation|Children|Comedy|Fantasy  \n",
      "99858  Adventure|Animation|Children|Comedy|Fantasy  \n",
      "99889  Adventure|Animation|Children|Comedy|Fantasy  \n",
      "\n",
      "[247 rows x 6 columns]\n"
     ]
    }
   ],
   "source": [
    "toy_story_ratings = movie_ratings[movie_ratings['title'] == \"Toy Story (1995)\"]\n",
    "print(toy_story_ratings)"
   ]
  },
  {
   "cell_type": "code",
   "execution_count": 11,
   "id": "2d2058b7-4a4e-48ee-b905-2351ecdcb7f8",
   "metadata": {},
   "outputs": [
    {
     "name": "stdout",
     "output_type": "stream",
     "text": [
      "title   \"Great Performances\" Cats (1998)  $9.99 (2008)  \\\n",
      "userId                                                   \n",
      "1                                    NaN           NaN   \n",
      "2                                    NaN           NaN   \n",
      "3                                    NaN           NaN   \n",
      "4                                    NaN           NaN   \n",
      "5                                    NaN           NaN   \n",
      "\n",
      "title   'Hellboy': The Seeds of Creation (2004)  \\\n",
      "userId                                            \n",
      "1                                           NaN   \n",
      "2                                           NaN   \n",
      "3                                           NaN   \n",
      "4                                           NaN   \n",
      "5                                           NaN   \n",
      "\n",
      "title   'Neath the Arizona Skies (1934)  'Round Midnight (1986)  \\\n",
      "userId                                                            \n",
      "1                                   NaN                     NaN   \n",
      "2                                   NaN                     NaN   \n",
      "3                                   NaN                     NaN   \n",
      "4                                   NaN                     NaN   \n",
      "5                                   NaN                     NaN   \n",
      "\n",
      "title   'Salem's Lot (2004)  'Til There Was You (1997)  'burbs, The (1989)  \\\n",
      "userId                                                                       \n",
      "1                       NaN                        NaN                 NaN   \n",
      "2                       NaN                        NaN                 NaN   \n",
      "3                       NaN                        NaN                 NaN   \n",
      "4                       NaN                        NaN                 NaN   \n",
      "5                       NaN                        NaN                 NaN   \n",
      "\n",
      "title   'night Mother (1986)  (500) Days of Summer (2009)  ...  Zulu (1964)  \\\n",
      "userId                                                     ...                \n",
      "1                        NaN                          NaN  ...          NaN   \n",
      "2                        NaN                          NaN  ...          NaN   \n",
      "3                        NaN                          NaN  ...          NaN   \n",
      "4                        NaN                          NaN  ...          NaN   \n",
      "5                        NaN                          NaN  ...          NaN   \n",
      "\n",
      "title   Zulu (2013)  [REC] (2007)  eXistenZ (1999)  \\\n",
      "userId                                               \n",
      "1               NaN           NaN              NaN   \n",
      "2               NaN           NaN              NaN   \n",
      "3               NaN           NaN              NaN   \n",
      "4               NaN           NaN              NaN   \n",
      "5               NaN           NaN              NaN   \n",
      "\n",
      "title   loudQUIETloud: A Film About the Pixies (2006)  xXx (2002)  \\\n",
      "userId                                                              \n",
      "1                                                 NaN         NaN   \n",
      "2                                                 NaN         NaN   \n",
      "3                                                 NaN         NaN   \n",
      "4                                                 NaN         NaN   \n",
      "5                                                 NaN         NaN   \n",
      "\n",
      "title   xXx: State of the Union (2005)  ¡Three Amigos! (1986)  \\\n",
      "userId                                                          \n",
      "1                                  NaN                    NaN   \n",
      "2                                  NaN                    NaN   \n",
      "3                                  NaN                    NaN   \n",
      "4                                  NaN                    NaN   \n",
      "5                                  NaN                    NaN   \n",
      "\n",
      "title   À nous la liberté (Freedom for Us) (1931)  İtirazım Var (2014)  \n",
      "userId                                                                  \n",
      "1                                             NaN                  NaN  \n",
      "2                                             NaN                  NaN  \n",
      "3                                             NaN                  NaN  \n",
      "4                                             NaN                  NaN  \n",
      "5                                             NaN                  NaN  \n",
      "\n",
      "[5 rows x 9064 columns]\n"
     ]
    }
   ],
   "source": [
    "# Assuming you have already created the 'movie_ratings' DataFrame\n",
    "user_ratings = movie_ratings.pivot_table(index=['userId'], columns=['title'], values='rating')\n",
    "print(user_ratings.head()) # To see the first few rows of the user_ratings DataFrame"
   ]
  },
  {
   "cell_type": "code",
   "execution_count": 12,
   "id": "c2b8729a-1820-4734-978a-0f792a570386",
   "metadata": {},
   "outputs": [
    {
     "name": "stdout",
     "output_type": "stream",
     "text": [
      "Empty DataFrame\n",
      "Columns: [correlation]\n",
      "Index: []\n"
     ]
    }
   ],
   "source": [
    "similar_to_toy_story = user_ratings.corrwith(toy_story_ratings)\n",
    "similar_movies = pd.DataFrame(similar_to_toy_story, columns=[\"correlation\"])\n",
    "similar_movies = similar_movies.dropna().sort_values(\"correlation\", ascending=False)\n",
    "print(similar_movies.head(10))"
   ]
  },
  {
   "cell_type": "code",
   "execution_count": 13,
   "id": "d9ea3d73-4e57-45c3-a411-eee13df13003",
   "metadata": {},
   "outputs": [
    {
     "name": "stderr",
     "output_type": "stream",
     "text": [
      "C:\\Users\\MrAction\\miniconda3\\Lib\\site-packages\\numpy\\lib\\_function_base_impl.py:2991: RuntimeWarning: Degrees of freedom <= 0 for slice\n",
      "  c = cov(x, y, rowvar, dtype=dtype)\n",
      "C:\\Users\\MrAction\\miniconda3\\Lib\\site-packages\\numpy\\lib\\_function_base_impl.py:2848: RuntimeWarning: divide by zero encountered in divide\n",
      "  c *= np.true_divide(1, fact)\n",
      "C:\\Users\\MrAction\\miniconda3\\Lib\\site-packages\\numpy\\lib\\_function_base_impl.py:2848: RuntimeWarning: invalid value encountered in multiply\n",
      "  c *= np.true_divide(1, fact)\n",
      "C:\\Users\\MrAction\\miniconda3\\Lib\\site-packages\\numpy\\lib\\_function_base_impl.py:2999: RuntimeWarning: invalid value encountered in divide\n",
      "  c /= stddev[:, None]\n",
      "C:\\Users\\MrAction\\miniconda3\\Lib\\site-packages\\numpy\\lib\\_function_base_impl.py:3000: RuntimeWarning: invalid value encountered in divide\n",
      "  c /= stddev[None, :]\n"
     ]
    },
    {
     "name": "stdout",
     "output_type": "stream",
     "text": [
      "                                       correlation\n",
      "title                                             \n",
      "Lady Snowblood (Shurayukihime) (1973)          1.0\n",
      "Wordplay (2006)                                1.0\n",
      "King Creole (1958)                             1.0\n",
      "35 Up (1991)                                   1.0\n",
      "49 Up (2005)                                   1.0\n",
      "Zed & Two Noughts, A (1985)                    1.0\n",
      "Red River (1948)                               1.0\n",
      "Toy, The (1982)                                1.0\n",
      "Balls of Fury (2007)                           1.0\n",
      "Babes in Toyland (1934)                        1.0\n"
     ]
    }
   ],
   "source": [
    "def get_recommendations(movie_title):\n",
    "    movie_ratings_input = user_ratings[movie_title]\n",
    "    similar_to_movie = user_ratings.corrwith(movie_ratings_input)\n",
    "    similar_movies_output = pd.DataFrame(similar_to_movie, columns=[\"correlation\"])\n",
    "    similar_movies_output = similar_movies_output.dropna().sort_values(\"correlation\", ascending=False)\n",
    "    return similar_movies_output.head(10)\n",
    "\n",
    "print(get_recommendations(\"Star Wars: Episode IV - A New Hope (1977)\"))"
   ]
  },
  {
   "cell_type": "code",
   "execution_count": 15,
   "id": "37d7602d-c500-4477-8a10-1d75c0cefc47",
   "metadata": {},
   "outputs": [
    {
     "name": "stdout",
     "output_type": "stream",
     "text": [
      "Requirement already satisfied: streamlit in c:\\users\\mraction\\miniconda3\\lib\\site-packages (1.44.1)\n",
      "Requirement already satisfied: altair<6,>=4.0 in c:\\users\\mraction\\miniconda3\\lib\\site-packages (from streamlit) (5.5.0)\n",
      "Requirement already satisfied: blinker<2,>=1.0.0 in c:\\users\\mraction\\miniconda3\\lib\\site-packages (from streamlit) (1.9.0)\n",
      "Requirement already satisfied: cachetools<6,>=4.0 in c:\\users\\mraction\\miniconda3\\lib\\site-packages (from streamlit) (5.5.2)\n",
      "Requirement already satisfied: click<9,>=7.0 in c:\\users\\mraction\\miniconda3\\lib\\site-packages (from streamlit) (8.1.8)\n",
      "Requirement already satisfied: numpy<3,>=1.23 in c:\\users\\mraction\\miniconda3\\lib\\site-packages (from streamlit) (2.1.3)\n",
      "Requirement already satisfied: packaging<25,>=20 in c:\\users\\mraction\\miniconda3\\lib\\site-packages (from streamlit) (24.2)\n",
      "Requirement already satisfied: pandas<3,>=1.4.0 in c:\\users\\mraction\\miniconda3\\lib\\site-packages (from streamlit) (2.2.3)\n",
      "Requirement already satisfied: pillow<12,>=7.1.0 in c:\\users\\mraction\\miniconda3\\lib\\site-packages (from streamlit) (11.1.0)\n",
      "Requirement already satisfied: protobuf<6,>=3.20 in c:\\users\\mraction\\miniconda3\\lib\\site-packages (from streamlit) (5.29.4)\n",
      "Requirement already satisfied: pyarrow>=7.0 in c:\\users\\mraction\\miniconda3\\lib\\site-packages (from streamlit) (19.0.1)\n",
      "Requirement already satisfied: requests<3,>=2.27 in c:\\users\\mraction\\miniconda3\\lib\\site-packages (from streamlit) (2.32.3)\n",
      "Requirement already satisfied: tenacity<10,>=8.1.0 in c:\\users\\mraction\\miniconda3\\lib\\site-packages (from streamlit) (9.1.2)\n",
      "Requirement already satisfied: toml<2,>=0.10.1 in c:\\users\\mraction\\miniconda3\\lib\\site-packages (from streamlit) (0.10.2)\n",
      "Requirement already satisfied: typing-extensions<5,>=4.4.0 in c:\\users\\mraction\\miniconda3\\lib\\site-packages (from streamlit) (4.12.2)\n",
      "Requirement already satisfied: watchdog<7,>=2.1.5 in c:\\users\\mraction\\miniconda3\\lib\\site-packages (from streamlit) (6.0.0)\n",
      "Requirement already satisfied: gitpython!=3.1.19,<4,>=3.0.7 in c:\\users\\mraction\\miniconda3\\lib\\site-packages (from streamlit) (3.1.44)\n",
      "Requirement already satisfied: pydeck<1,>=0.8.0b4 in c:\\users\\mraction\\miniconda3\\lib\\site-packages (from streamlit) (0.9.1)\n",
      "Requirement already satisfied: tornado<7,>=6.0.3 in c:\\users\\mraction\\miniconda3\\lib\\site-packages (from streamlit) (6.4.2)\n",
      "Requirement already satisfied: jinja2 in c:\\users\\mraction\\miniconda3\\lib\\site-packages (from altair<6,>=4.0->streamlit) (3.1.6)\n",
      "Requirement already satisfied: jsonschema>=3.0 in c:\\users\\mraction\\miniconda3\\lib\\site-packages (from altair<6,>=4.0->streamlit) (4.23.0)\n",
      "Requirement already satisfied: narwhals>=1.14.2 in c:\\users\\mraction\\miniconda3\\lib\\site-packages (from altair<6,>=4.0->streamlit) (1.34.1)\n",
      "Requirement already satisfied: colorama in c:\\users\\mraction\\miniconda3\\lib\\site-packages (from click<9,>=7.0->streamlit) (0.4.6)\n",
      "Requirement already satisfied: gitdb<5,>=4.0.1 in c:\\users\\mraction\\miniconda3\\lib\\site-packages (from gitpython!=3.1.19,<4,>=3.0.7->streamlit) (4.0.12)\n",
      "Requirement already satisfied: python-dateutil>=2.8.2 in c:\\users\\mraction\\miniconda3\\lib\\site-packages (from pandas<3,>=1.4.0->streamlit) (2.9.0.post0)\n",
      "Requirement already satisfied: pytz>=2020.1 in c:\\users\\mraction\\miniconda3\\lib\\site-packages (from pandas<3,>=1.4.0->streamlit) (2025.2)\n",
      "Requirement already satisfied: tzdata>=2022.7 in c:\\users\\mraction\\miniconda3\\lib\\site-packages (from pandas<3,>=1.4.0->streamlit) (2025.2)\n",
      "Requirement already satisfied: charset-normalizer<4,>=2 in c:\\users\\mraction\\miniconda3\\lib\\site-packages (from requests<3,>=2.27->streamlit) (3.3.2)\n",
      "Requirement already satisfied: idna<4,>=2.5 in c:\\users\\mraction\\miniconda3\\lib\\site-packages (from requests<3,>=2.27->streamlit) (3.7)\n",
      "Requirement already satisfied: urllib3<3,>=1.21.1 in c:\\users\\mraction\\miniconda3\\lib\\site-packages (from requests<3,>=2.27->streamlit) (2.3.0)\n",
      "Requirement already satisfied: certifi>=2017.4.17 in c:\\users\\mraction\\miniconda3\\lib\\site-packages (from requests<3,>=2.27->streamlit) (2025.1.31)\n",
      "Requirement already satisfied: smmap<6,>=3.0.1 in c:\\users\\mraction\\miniconda3\\lib\\site-packages (from gitdb<5,>=4.0.1->gitpython!=3.1.19,<4,>=3.0.7->streamlit) (5.0.2)\n",
      "Requirement already satisfied: MarkupSafe>=2.0 in c:\\users\\mraction\\miniconda3\\lib\\site-packages (from jinja2->altair<6,>=4.0->streamlit) (3.0.2)\n",
      "Requirement already satisfied: attrs>=22.2.0 in c:\\users\\mraction\\miniconda3\\lib\\site-packages (from jsonschema>=3.0->altair<6,>=4.0->streamlit) (24.3.0)\n",
      "Requirement already satisfied: jsonschema-specifications>=2023.03.6 in c:\\users\\mraction\\miniconda3\\lib\\site-packages (from jsonschema>=3.0->altair<6,>=4.0->streamlit) (2023.7.1)\n",
      "Requirement already satisfied: referencing>=0.28.4 in c:\\users\\mraction\\miniconda3\\lib\\site-packages (from jsonschema>=3.0->altair<6,>=4.0->streamlit) (0.30.2)\n",
      "Requirement already satisfied: rpds-py>=0.7.1 in c:\\users\\mraction\\miniconda3\\lib\\site-packages (from jsonschema>=3.0->altair<6,>=4.0->streamlit) (0.22.3)\n",
      "Requirement already satisfied: six>=1.5 in c:\\users\\mraction\\miniconda3\\lib\\site-packages (from python-dateutil>=2.8.2->pandas<3,>=1.4.0->streamlit) (1.16.0)\n"
     ]
    }
   ],
   "source": [
    "!pip install streamlit"
   ]
  },
  {
   "cell_type": "code",
   "execution_count": null,
   "id": "49072ee2-b000-4d7d-8397-f72e23182480",
   "metadata": {},
   "outputs": [],
   "source": []
  }
 ],
 "metadata": {
  "kernelspec": {
   "display_name": "Python 3 (ipykernel)",
   "language": "python",
   "name": "python3"
  },
  "language_info": {
   "codemirror_mode": {
    "name": "ipython",
    "version": 3
   },
   "file_extension": ".py",
   "mimetype": "text/x-python",
   "name": "python",
   "nbconvert_exporter": "python",
   "pygments_lexer": "ipython3",
   "version": "3.12.9"
  }
 },
 "nbformat": 4,
 "nbformat_minor": 5
}
